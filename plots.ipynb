{
 "cells": [
  {
   "cell_type": "code",
   "execution_count": 29,
   "metadata": {},
   "outputs": [
    {
     "name": "stdout",
     "output_type": "stream",
     "text": [
      "The autoreload extension is already loaded. To reload it, use:\n",
      "  %reload_ext autoreload\n",
      "Using matplotlib backend: MacOSX\n",
      "Populating the interactive namespace from numpy and matplotlib\n"
     ]
    }
   ],
   "source": [
    "%load_ext autoreload\n",
    "%autoreload 2\n",
    "%pylab\n",
    "%matplotlib inline"
   ]
  },
  {
   "cell_type": "code",
   "execution_count": 63,
   "metadata": {},
   "outputs": [],
   "source": [
    "import csv\n",
    "from collections import defaultdict\n",
    "import json \n",
    "import matplotlib.pyplot as plt\n",
    "import pandas as pd\n",
    "import pickle\n",
    "from play_scraper import api\n",
    "from play_scraper import googleplaystore\n",
    "import time"
   ]
  },
  {
   "cell_type": "code",
   "execution_count": 44,
   "metadata": {},
   "outputs": [],
   "source": [
    "top_paid = pd.read_csv('/Users/bettychou1993/Desktop/intern@sdl/play-scraper/data/top_paid.csv')"
   ]
  },
  {
   "cell_type": "code",
   "execution_count": 38,
   "metadata": {},
   "outputs": [
    {
     "data": {
      "text/html": [
       "<div>\n",
       "<style scoped>\n",
       "    .dataframe tbody tr th:only-of-type {\n",
       "        vertical-align: middle;\n",
       "    }\n",
       "\n",
       "    .dataframe tbody tr th {\n",
       "        vertical-align: top;\n",
       "    }\n",
       "\n",
       "    .dataframe thead th {\n",
       "        text-align: right;\n",
       "    }\n",
       "</style>\n",
       "<table border=\"1\" class=\"dataframe\">\n",
       "  <thead>\n",
       "    <tr style=\"text-align: right;\">\n",
       "      <th></th>\n",
       "      <th>Unnamed: 0</th>\n",
       "      <th>title</th>\n",
       "      <th>category</th>\n",
       "      <th>installs</th>\n",
       "      <th>score</th>\n",
       "      <th>description</th>\n",
       "      <th>reviews</th>\n",
       "    </tr>\n",
       "  </thead>\n",
       "  <tbody>\n",
       "    <tr>\n",
       "      <th>0</th>\n",
       "      <td>afh.calculator</td>\n",
       "      <td>Air Force PT Test Calculator</td>\n",
       "      <td>HEALTH_AND_FITNESS</td>\n",
       "      <td>5,000+</td>\n",
       "      <td>4.3</td>\n",
       "      <td>UPDATE: Version 2.0 supports Android Wear watc...</td>\n",
       "      <td>[]</td>\n",
       "    </tr>\n",
       "    <tr>\n",
       "      <th>1</th>\n",
       "      <td>agraetz.sunrisealarmp</td>\n",
       "      <td>Sunrise Alarm for LIFX &amp; Hue</td>\n",
       "      <td>HEALTH_AND_FITNESS</td>\n",
       "      <td>1,000+</td>\n",
       "      <td>4.4</td>\n",
       "      <td>Don't you hate having to set a seperate alarm ...</td>\n",
       "      <td>[]</td>\n",
       "    </tr>\n",
       "    <tr>\n",
       "      <th>2</th>\n",
       "      <td>alexcrusher.just6weeks.full</td>\n",
       "      <td>Just 6 Weeks</td>\n",
       "      <td>HEALTH_AND_FITNESS</td>\n",
       "      <td>100,000+</td>\n",
       "      <td>4.7</td>\n",
       "      <td>Just 6 Weeks offers you a unique opportunity t...</td>\n",
       "      <td>[{\"rating\": \"20\", \"review-text\": \"  The app ha...</td>\n",
       "    </tr>\n",
       "    <tr>\n",
       "      <th>3</th>\n",
       "      <td>co.nowvr.relaxationvr</td>\n",
       "      <td>Relax VR</td>\n",
       "      <td>HEALTH_AND_FITNESS</td>\n",
       "      <td>10,000+</td>\n",
       "      <td>3.6</td>\n",
       "      <td>** NOT compatible with Daydream. Please see ot...</td>\n",
       "      <td>[{\"rating\": \"20\", \"review-text\": \"  NOT DAYDRE...</td>\n",
       "    </tr>\n",
       "    <tr>\n",
       "      <th>4</th>\n",
       "      <td>com.Aromascense.app</td>\n",
       "      <td>Aromascense</td>\n",
       "      <td>HEALTH_AND_FITNESS</td>\n",
       "      <td>50+</td>\n",
       "      <td>5.0</td>\n",
       "      <td>Aromascense combines a reference guide for usi...</td>\n",
       "      <td>[]</td>\n",
       "    </tr>\n",
       "  </tbody>\n",
       "</table>\n",
       "</div>"
      ],
      "text/plain": [
       "                    Unnamed: 0                         title  \\\n",
       "0               afh.calculator  Air Force PT Test Calculator   \n",
       "1        agraetz.sunrisealarmp  Sunrise Alarm for LIFX & Hue   \n",
       "2  alexcrusher.just6weeks.full                  Just 6 Weeks   \n",
       "3        co.nowvr.relaxationvr                      Relax VR   \n",
       "4          com.Aromascense.app                   Aromascense   \n",
       "\n",
       "             category  installs  score  \\\n",
       "0  HEALTH_AND_FITNESS    5,000+    4.3   \n",
       "1  HEALTH_AND_FITNESS    1,000+    4.4   \n",
       "2  HEALTH_AND_FITNESS  100,000+    4.7   \n",
       "3  HEALTH_AND_FITNESS   10,000+    3.6   \n",
       "4  HEALTH_AND_FITNESS       50+    5.0   \n",
       "\n",
       "                                         description  \\\n",
       "0  UPDATE: Version 2.0 supports Android Wear watc...   \n",
       "1  Don't you hate having to set a seperate alarm ...   \n",
       "2  Just 6 Weeks offers you a unique opportunity t...   \n",
       "3  ** NOT compatible with Daydream. Please see ot...   \n",
       "4  Aromascense combines a reference guide for usi...   \n",
       "\n",
       "                                             reviews  \n",
       "0                                                 []  \n",
       "1                                                 []  \n",
       "2  [{\"rating\": \"20\", \"review-text\": \"  The app ha...  \n",
       "3  [{\"rating\": \"20\", \"review-text\": \"  NOT DAYDRE...  \n",
       "4                                                 []  "
      ]
     },
     "execution_count": 38,
     "metadata": {},
     "output_type": "execute_result"
    }
   ],
   "source": [
    "top_paid.head()"
   ]
  },
  {
   "cell_type": "code",
   "execution_count": 45,
   "metadata": {
    "scrolled": true
   },
   "outputs": [],
   "source": [
    "top_paid = top_paid[['installs', 'score']]"
   ]
  },
  {
   "cell_type": "code",
   "execution_count": 104,
   "metadata": {},
   "outputs": [],
   "source": [
    "top_paid['bins'] = pd.cut(top_paid['score'],bins=[0,3.0,3.5,4.0,4.5,5.0], labels=[\"0-3.0\",\"3.0-3.5\",\"3.5-4.0\",\"4.0-4.5\", \"4.5-5.0\"])"
   ]
  },
  {
   "cell_type": "code",
   "execution_count": 106,
   "metadata": {},
   "outputs": [
    {
     "data": {
      "text/html": [
       "<div>\n",
       "<style scoped>\n",
       "    .dataframe tbody tr th:only-of-type {\n",
       "        vertical-align: middle;\n",
       "    }\n",
       "\n",
       "    .dataframe tbody tr th {\n",
       "        vertical-align: top;\n",
       "    }\n",
       "\n",
       "    .dataframe thead th {\n",
       "        text-align: right;\n",
       "    }\n",
       "</style>\n",
       "<table border=\"1\" class=\"dataframe\">\n",
       "  <thead>\n",
       "    <tr style=\"text-align: right;\">\n",
       "      <th></th>\n",
       "      <th>installs</th>\n",
       "      <th>score</th>\n",
       "      <th>bins</th>\n",
       "    </tr>\n",
       "  </thead>\n",
       "  <tbody>\n",
       "    <tr>\n",
       "      <th>0</th>\n",
       "      <td>5k+</td>\n",
       "      <td>4.3</td>\n",
       "      <td>4.0-4.5</td>\n",
       "    </tr>\n",
       "    <tr>\n",
       "      <th>1</th>\n",
       "      <td>1k+</td>\n",
       "      <td>4.4</td>\n",
       "      <td>4.0-4.5</td>\n",
       "    </tr>\n",
       "    <tr>\n",
       "      <th>2</th>\n",
       "      <td>100k+</td>\n",
       "      <td>4.7</td>\n",
       "      <td>4.5-5.0</td>\n",
       "    </tr>\n",
       "    <tr>\n",
       "      <th>3</th>\n",
       "      <td>10k+</td>\n",
       "      <td>3.6</td>\n",
       "      <td>3.5-4.0</td>\n",
       "    </tr>\n",
       "    <tr>\n",
       "      <th>4</th>\n",
       "      <td>&lt;1k</td>\n",
       "      <td>5.0</td>\n",
       "      <td>4.5-5.0</td>\n",
       "    </tr>\n",
       "  </tbody>\n",
       "</table>\n",
       "</div>"
      ],
      "text/plain": [
       "  installs  score     bins\n",
       "0      5k+    4.3  4.0-4.5\n",
       "1      1k+    4.4  4.0-4.5\n",
       "2    100k+    4.7  4.5-5.0\n",
       "3     10k+    3.6  3.5-4.0\n",
       "4      <1k    5.0  4.5-5.0"
      ]
     },
     "execution_count": 106,
     "metadata": {},
     "output_type": "execute_result"
    }
   ],
   "source": [
    "top_paid.head()"
   ]
  },
  {
   "cell_type": "code",
   "execution_count": 117,
   "metadata": {},
   "outputs": [],
   "source": [
    "b = top_paid.groupby('bins').count()['score']"
   ]
  },
  {
   "cell_type": "code",
   "execution_count": 46,
   "metadata": {},
   "outputs": [],
   "source": [
    "# replace multiple values with one value, pass dictionary into df.replace\n",
    "x = dict.fromkeys(['5+', '10+', '50+', '100+', '500+'], '<1k')\n",
    "top_paid['installs'] = top_paid['installs'].replace(x)"
   ]
  },
  {
   "cell_type": "code",
   "execution_count": 47,
   "metadata": {},
   "outputs": [],
   "source": [
    "top_paid['installs'] = top_paid['installs'].map({'<1k': '<1k',\n",
    "                                                 '1,000+': '1k+', \n",
    "                                                '5,000+': '5k+',\n",
    "                                                '10,000+': '10k+',\n",
    "                                                '50,000+': '50k+',\n",
    "                                                '100,000+': '100k+',\n",
    "                                                '500,000+': '500k+',\n",
    "                                                '1,000,000+': '1,000k+'})"
   ]
  },
  {
   "cell_type": "code",
   "execution_count": 53,
   "metadata": {},
   "outputs": [],
   "source": [
    "top_paid_installs = top_paid['installs']"
   ]
  },
  {
   "cell_type": "code",
   "execution_count": 57,
   "metadata": {
    "collapsed": true
   },
   "outputs": [
    {
     "data": {
      "text/plain": [
       "0        5k+\n",
       "1        1k+\n",
       "2      100k+\n",
       "3       10k+\n",
       "4        <1k\n",
       "5       50k+\n",
       "6       50k+\n",
       "7       50k+\n",
       "8      100k+\n",
       "9        1k+\n",
       "10      50k+\n",
       "11       1k+\n",
       "12       5k+\n",
       "13       5k+\n",
       "14      10k+\n",
       "15       5k+\n",
       "16       <1k\n",
       "17      10k+\n",
       "18      50k+\n",
       "19       5k+\n",
       "20       1k+\n",
       "21       <1k\n",
       "22       5k+\n",
       "23       1k+\n",
       "24       1k+\n",
       "25      10k+\n",
       "26      50k+\n",
       "27       1k+\n",
       "28       1k+\n",
       "29       1k+\n",
       "       ...  \n",
       "90       5k+\n",
       "91      10k+\n",
       "92     100k+\n",
       "93       1k+\n",
       "94      50k+\n",
       "95      10k+\n",
       "96      50k+\n",
       "97       5k+\n",
       "98      10k+\n",
       "99     100k+\n",
       "100      5k+\n",
       "101      1k+\n",
       "102    100k+\n",
       "103     10k+\n",
       "104     50k+\n",
       "105      1k+\n",
       "106    100k+\n",
       "107     10k+\n",
       "108    100k+\n",
       "109     10k+\n",
       "110     10k+\n",
       "111      1k+\n",
       "112      1k+\n",
       "113    100k+\n",
       "114     10k+\n",
       "115    500k+\n",
       "116      <1k\n",
       "117     10k+\n",
       "118      1k+\n",
       "119     10k+\n",
       "Name: installs, Length: 120, dtype: object"
      ]
     },
     "execution_count": 57,
     "metadata": {},
     "output_type": "execute_result"
    }
   ],
   "source": [
    "top_paid_installs"
   ]
  },
  {
   "cell_type": "code",
   "execution_count": 59,
   "metadata": {
    "scrolled": false
   },
   "outputs": [],
   "source": [
    "a = top_paid.groupby('installs').count()"
   ]
  },
  {
   "cell_type": "code",
   "execution_count": 70,
   "metadata": {},
   "outputs": [
    {
     "data": {
      "text/html": [
       "<div>\n",
       "<style scoped>\n",
       "    .dataframe tbody tr th:only-of-type {\n",
       "        vertical-align: middle;\n",
       "    }\n",
       "\n",
       "    .dataframe tbody tr th {\n",
       "        vertical-align: top;\n",
       "    }\n",
       "\n",
       "    .dataframe thead th {\n",
       "        text-align: right;\n",
       "    }\n",
       "</style>\n",
       "<table border=\"1\" class=\"dataframe\">\n",
       "  <thead>\n",
       "    <tr style=\"text-align: right;\">\n",
       "      <th></th>\n",
       "      <th>score</th>\n",
       "    </tr>\n",
       "    <tr>\n",
       "      <th>installs</th>\n",
       "      <th></th>\n",
       "    </tr>\n",
       "  </thead>\n",
       "  <tbody>\n",
       "    <tr>\n",
       "      <th>1,000k+</th>\n",
       "      <td>1</td>\n",
       "    </tr>\n",
       "    <tr>\n",
       "      <th>100k+</th>\n",
       "      <td>14</td>\n",
       "    </tr>\n",
       "    <tr>\n",
       "      <th>10k+</th>\n",
       "      <td>33</td>\n",
       "    </tr>\n",
       "    <tr>\n",
       "      <th>1k+</th>\n",
       "      <td>30</td>\n",
       "    </tr>\n",
       "    <tr>\n",
       "      <th>500k+</th>\n",
       "      <td>1</td>\n",
       "    </tr>\n",
       "    <tr>\n",
       "      <th>50k+</th>\n",
       "      <td>13</td>\n",
       "    </tr>\n",
       "    <tr>\n",
       "      <th>5k+</th>\n",
       "      <td>18</td>\n",
       "    </tr>\n",
       "    <tr>\n",
       "      <th>&lt;1k</th>\n",
       "      <td>9</td>\n",
       "    </tr>\n",
       "  </tbody>\n",
       "</table>\n",
       "</div>"
      ],
      "text/plain": [
       "          score\n",
       "installs       \n",
       "1,000k+       1\n",
       "100k+        14\n",
       "10k+         33\n",
       "1k+          30\n",
       "500k+         1\n",
       "50k+         13\n",
       "5k+          18\n",
       "<1k           9"
      ]
     },
     "execution_count": 70,
     "metadata": {},
     "output_type": "execute_result"
    }
   ],
   "source": [
    "a"
   ]
  },
  {
   "cell_type": "code",
   "execution_count": 110,
   "metadata": {},
   "outputs": [
    {
     "data": {
      "text/plain": [
       "<matplotlib.legend.Legend at 0x10e0ed7d0>"
      ]
     },
     "execution_count": 110,
     "metadata": {},
     "output_type": "execute_result"
    },
    {
     "data": {
      "image/png": "[encoded data removed]",
      "text/plain": [
       "<matplotlib.figure.Figure at 0x10e0ed350>"
      ]
     },
     "metadata": {},
     "output_type": "display_data"
    }
   ],
   "source": [
    "fig = a.plot.pie(subplots=True, autopct='%1.1f%%', figsize=(8, 6), legend=False)\n",
    "plt.title('number of downloads for health apps in top paid category')\n",
    "plt.legend(loc=2)"
   ]
  },
  {
   "cell_type": "code",
   "execution_count": 118,
   "metadata": {},
   "outputs": [
    {
     "data": {
      "text/plain": [
       "<matplotlib.legend.Legend at 0x1078d0450>"
      ]
     },
     "execution_count": 118,
     "metadata": {},
     "output_type": "execute_result"
    },
    {
     "data": {
      "image/png": "[encoded data removed]",
      "text/plain": [
       "<matplotlib.figure.Figure at 0x115402b10>"
      ]
     },
     "metadata": {},
     "output_type": "display_data"
    }
   ],
   "source": [
    "b.plot.pie(subplots=True, autopct='%1.1f%%', figsize=(8, 6), legend=False)\n",
    "plt.title('ratings')\n",
    "plt.legend(loc=2)"
   ]
  },
  {
   "cell_type": "code",
   "execution_count": null,
   "metadata": {},
   "outputs": [],
   "source": []
  }
 ],
 "metadata": {
  "kernelspec": {
   "display_name": "Python 2",
   "language": "python",
   "name": "python2"
  },
  "language_info": {
   "codemirror_mode": {
    "name": "ipython",
    "version": 2
   },
   "file_extension": ".py",
   "mimetype": "text/x-python",
   "name": "python",
   "nbconvert_exporter": "python",
   "pygments_lexer": "ipython2",
   "version": "2.7.14"
  }
 },
 "nbformat": 4,
 "nbformat_minor": 2
}
