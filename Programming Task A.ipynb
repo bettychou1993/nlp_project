{
 "cells": [
  {
   "cell_type": "code",
   "execution_count": 371,
   "metadata": {},
   "outputs": [
    {
     "name": "stdout",
     "output_type": "stream",
     "text": [
      "The autoreload extension is already loaded. To reload it, use:\n",
      "  %reload_ext autoreload\n"
     ]
    }
   ],
   "source": [
    "%load_ext autoreload\n",
    "%autoreload 2"
   ]
  },
  {
   "cell_type": "code",
   "execution_count": 388,
   "metadata": {},
   "outputs": [],
   "source": [
    "import csv\n",
    "from collections import defaultdict\n",
    "import json \n",
    "import pandas as pd\n",
    "import pickle\n",
    "from play_scraper import api\n",
    "from play_scraper import googleplaystore"
   ]
  },
  {
   "cell_type": "code",
   "execution_count": 375,
   "metadata": {},
   "outputs": [
    {
     "name": "stdout",
     "output_type": "stream",
     "text": [
      "new\n"
     ]
    },
    {
     "data": {
      "text/plain": [
       "[{'app_id': 'com.deepsleep.sleep.soft.music.sounds',\n",
       "  'description': u'\\u23f0Mediate and relax with the relaxing sounds to find inner peace and calmness.',\n",
       "  'developer': 'Sound Sleep Group',\n",
       "  'developer_id': 'Sound+Sleep+Group',\n",
       "  'free': False,\n",
       "  'full_price': None,\n",
       "  'icon': 'https://lh3.googleusercontent.com/6PVjbcAHiYCUHzgiRYg2Ti3TOk1URJ5EIDE6JWi6OBdCsJ2Xi7J9GB6IriHm2nEQjuug',\n",
       "  'price': u'',\n",
       "  'score': '4.3',\n",
       "  'title': 'Relax Music - Meditation& Sleep Music, White Noise',\n",
       "  'url': 'https://play.google.com/store/apps/details?id=com.deepsleep.sleep.soft.music.sounds'},\n",
       " {'app_id': 'step.tracker.stepcounter.walking',\n",
       "  'description': u'Free step counter, Daily Walking tracker.  Effective pedometer app in steps\\U0001f525',\n",
       "  'developer': 'Sound Sleep Group',\n",
       "  'developer_id': 'Sound+Sleep+Group',\n",
       "  'free': False,\n",
       "  'full_price': None,\n",
       "  'icon': 'https://lh3.googleusercontent.com/1aSOiuhycGX5lUVlogYJshrwynHwDr9wDpB-2vXB_RtYvQBfuagXhE8ABel-J056mQ',\n",
       "  'price': u'',\n",
       "  'score': '4.6',\n",
       "  'title': 'Step Tracker - Pedometer, Daily Walking Tracker',\n",
       "  'url': 'https://play.google.com/store/apps/details?id=step.tracker.stepcounter.walking'},\n",
       " {'app_id': 'com.getsomeheadspace.android',\n",
       "  'description': u'Helpful guided meditation sessions to help you breathe, sleep, relax & focus.',\n",
       "  'developer': 'Headspace, Inc.',\n",
       "  'developer_id': 'Headspace,+Inc.',\n",
       "  'free': False,\n",
       "  'full_price': None,\n",
       "  'icon': 'https://lh3.googleusercontent.com/DYpVgzvxeWI2CjA7YvpIcpH9EPGrzb3j_LIHL18616DyqAybIND-rZCg70OO8mN37A',\n",
       "  'price': u'',\n",
       "  'score': '4.6',\n",
       "  'title': 'Headspace: Meditation & Mindfulness',\n",
       "  'url': 'https://play.google.com/store/apps/details?id=com.getsomeheadspace.android'},\n",
       " {'app_id': 'com.sec.android.app.shealth',\n",
       "  'description': u'Lifestyle companion to track your fitness, weight, diet, food & sleep.',\n",
       "  'developer': 'Samsung Electronics Co.,  Ltd.',\n",
       "  'developer_id': '5200379633052405703',\n",
       "  'free': False,\n",
       "  'full_price': None,\n",
       "  'icon': 'https://lh3.googleusercontent.com/UvZyV73jQTlBpKTFxsET-Kup0HIa-aM6rxEjdlYpmOI_xp0z-u-qsdFUkZV6QSq30ds',\n",
       "  'price': u'',\n",
       "  'score': '4.3',\n",
       "  'title': 'Samsung Health',\n",
       "  'url': 'https://play.google.com/store/apps/details?id=com.sec.android.app.shealth'},\n",
       " {'app_id': 'in.sweatco.app',\n",
       "  'description': u\"Turn your steps to 'sweat coins' - digital currency to make you fit and active!\",\n",
       "  'developer': 'Sweatco Ltd',\n",
       "  'developer_id': 'Sweatco+Ltd',\n",
       "  'free': False,\n",
       "  'full_price': None,\n",
       "  'icon': 'https://lh3.googleusercontent.com/2G0BofokJNL-92f9t7Z_5_uh593ywcuZ2uHPKOq7WpGyLy4ufv67km1m9a70-2fJJw',\n",
       "  'price': u'',\n",
       "  'score': '3.7',\n",
       "  'title': 'Sweatcoin Pays You To Get Fit',\n",
       "  'url': 'https://play.google.com/store/apps/details?id=in.sweatco.app'},\n",
       " {'app_id': 'com.fitbit.FitbitMobile',\n",
       "  'description': u'Fitbit is dedicated to helping people lead healthier, more active lives.',\n",
       "  'developer': 'Fitbit, Inc.',\n",
       "  'developer_id': 'Fitbit,+Inc.',\n",
       "  'free': False,\n",
       "  'full_price': None,\n",
       "  'icon': 'https://lh3.googleusercontent.com/dIpnDB-EbJhzSkF1jpdHKMq0q1oq58ZsRWVKuEGzmGGaPSIwHKFq05ROAOLS4SzFUw',\n",
       "  'price': u'',\n",
       "  'score': '3.9',\n",
       "  'title': 'Fitbit',\n",
       "  'url': 'https://play.google.com/store/apps/details?id=com.fitbit.FitbitMobile'},\n",
       " {'app_id': 'loseweight.my.fitness.day.homeworkout',\n",
       "  'description': u'My Fitness Day is one brand new app that helps you burn fat and lose weight',\n",
       "  'developer': 'Star Fitness Dev',\n",
       "  'developer_id': 'Star+Fitness+Dev',\n",
       "  'free': False,\n",
       "  'full_price': None,\n",
       "  'icon': 'https://lh3.googleusercontent.com/G2RQ7htgjJwBsRJ6AmR0vkh-E_J_FK4RfCEPoSVHTFY74I0D-R1Lfx9KC_YKxNmY3w',\n",
       "  'price': u'',\n",
       "  'score': '4.5',\n",
       "  'title': u'My Fitness Day\\u2014lose weight at home',\n",
       "  'url': 'https://play.google.com/store/apps/details?id=loseweight.my.fitness.day.homeworkout'},\n",
       " {'app_id': 'lose.fat.day21.fitness.athome',\n",
       "  'description': u'fitness app for all girls eager for fat burning and build a hot body.',\n",
       "  'developer': 'female body fit dev',\n",
       "  'developer_id': 'female+body+fit+dev',\n",
       "  'free': False,\n",
       "  'full_price': None,\n",
       "  'icon': 'https://lh3.googleusercontent.com/8aqWPVlaz1Nlqsyqdfy6kgE-Wtaffm2PJYVAGjNUt2NKuIj4FwJW2bXGE7U65yH9NRA',\n",
       "  'price': u'',\n",
       "  'score': '4.6',\n",
       "  'title': 'Fat Loss in 21 Days - calorie burning exercise',\n",
       "  'url': 'https://play.google.com/store/apps/details?id=lose.fat.day21.fitness.athome'},\n",
       " {'app_id': 'com.fat.burning.fitness.workout',\n",
       "  'description': u'Get fat burning\\uff0cGet dreaming body',\n",
       "  'developer': 'Fat workout dev',\n",
       "  'developer_id': 'Fat+workout+dev',\n",
       "  'free': False,\n",
       "  'full_price': None,\n",
       "  'icon': 'https://lh3.googleusercontent.com/slRFf9PisasOtnopFXRifMVcInRu4VXDPO514lkNJlbfjzxIna8np0pyeZZu7G3Cu2c',\n",
       "  'price': u'',\n",
       "  'score': '4.6',\n",
       "  'title': 'Fat Burning Workout - Home Weight lose',\n",
       "  'url': 'https://play.google.com/store/apps/details?id=com.fat.burning.fitness.workout'},\n",
       " {'app_id': 'com.calm.android',\n",
       "  'description': u'Join the millions discovering the life-changing benefits of meditation with Calm',\n",
       "  'developer': 'Calm.com, Inc.',\n",
       "  'developer_id': 'Calm.com,+Inc.',\n",
       "  'free': False,\n",
       "  'full_price': None,\n",
       "  'icon': 'https://lh3.googleusercontent.com/NmWh7Jnm_VxC-SOfT3VhqmnGlc4sMWLJh9SDfBL1hRx7PG2WA0yS8VY7Mhi1m7P7UQ',\n",
       "  'price': u'',\n",
       "  'score': '4.6',\n",
       "  'title': 'Calm - Meditate, Sleep, Relax',\n",
       "  'url': 'https://play.google.com/store/apps/details?id=com.calm.android'}]"
      ]
     },
     "execution_count": 375,
     "metadata": {},
     "output_type": "execute_result"
    }
   ],
   "source": [
    "api.collection('TOP_FREE', 'HEALTH_AND_FITNESS', results=10)"
   ]
  },
  {
   "cell_type": "code",
   "execution_count": 381,
   "metadata": {},
   "outputs": [
    {
     "name": "stdout",
     "output_type": "stream",
     "text": [
      "new\n",
      "new\n",
      "new\n",
      "new\n",
      "new\n",
      "new\n"
     ]
    }
   ],
   "source": [
    "top_paid =  [item['app_id'] for item in api.collection('TOP_PAID', 'HEALTH_AND_FITNESS', results=120)]\n",
    "top_free =  [item['app_id'] for item in api.collection('TOP_FREE', 'HEALTH_AND_FITNESS', results=120)]\n",
    "new_paid =  [item['app_id'] for item in api.collection('NEW_PAID', 'HEALTH_AND_FITNESS', results=120)]\n",
    "new_free =  [item['app_id'] for item in api.collection('NEW_FREE', 'HEALTH_AND_FITNESS', results=120)]\n",
    "top_grossing =  [item['app_id'] for item in api.collection('TOP_GROSSING', 'HEALTH_AND_FITNESS', results=120)]\n",
    "trending =  [item['app_id'] for item in api.collection('TRENDING', 'HEALTH_AND_FITNESS', results=120)]"
   ]
  },
  {
   "cell_type": "code",
   "execution_count": 396,
   "metadata": {},
   "outputs": [],
   "source": [
    "with open('top_paid.outfile', 'wb') as fp:\n",
    "    pickle.dump(top_paid, fp)\n",
    "with open('top_free.outfile', 'wb') as fp:\n",
    "    pickle.dump(top_free, fp)\n",
    "with open('new_paid.outfile', 'wb') as fp:\n",
    "    pickle.dump(new_paid, fp)\n",
    "with open('new_free.outfile', 'wb') as fp:\n",
    "    pickle.dump(new_free, fp)\n",
    "with open('top_grossing.outfile', 'wb') as fp:\n",
    "    pickle.dump(top_grossing, fp)\n",
    "with open('trending.outfile', 'wb') as fp:\n",
    "    pickle.dump(trending, fp)"
   ]
  },
  {
   "cell_type": "code",
   "execution_count": 390,
   "metadata": {},
   "outputs": [],
   "source": [
    "with open ('top_paid.outfile', 'rb') as fp:\n",
    "    itemlist = pickle.load(fp)"
   ]
  },
  {
   "cell_type": "code",
   "execution_count": 397,
   "metadata": {},
   "outputs": [],
   "source": [
    "def get_reviews(app_id, num_pages=10):\n",
    "    ps = googleplaystore.PlayStore(cookie={\"PLAY_PREFS\":\"\",\n",
    "          \"NID\":\"\",\n",
    "          \"_gat\":\"\",\n",
    "          \"_ga\":\"\"\n",
    "    })\n",
    "    app = googleplaystore.App(ps, app_id)\n",
    "    reviews = []\n",
    "    try:\n",
    "        page = 0\n",
    "        while page < num_pages:\n",
    "            reviews.extend(app._get_reviews(page))\n",
    "            page += 1\n",
    "    except Exception:\n",
    "        pass\n",
    "\n",
    "    return reviews"
   ]
  },
  {
   "cell_type": "code",
   "execution_count": 440,
   "metadata": {},
   "outputs": [],
   "source": [
    "keys_needed = ['title', 'category', 'installs', 'score', 'description']\n",
    "d = {}\n",
    "for appID in trending:\n",
    "    old_d = api.details(appID)\n",
    "    d[appID] = { key: old_d[key] for key in keys_needed }\n",
    "    d[appID]['category'] = '|'.join(d[appID]['category'])\n",
    "    d[appID]['reviews'] = json.dumps(get_reviews(appID, num_pages=1))"
   ]
  },
  {
   "cell_type": "code",
   "execution_count": 281,
   "metadata": {},
   "outputs": [],
   "source": [
    "def get_data(collection):\n",
    "    keys_needed = ['title', 'category', 'installs', 'score', 'description']\n",
    "    d = {}\n",
    "    for appID in collection:\n",
    "        old_d = api.details(appID)\n",
    "        d[appID] = {key: old_d[key] for key in keys_needed}\n",
    "        d[appID]['category'] = '|'.join(d[appID]['category'])\n",
    "        d[appID]['reviews'] = json.dumps(get_reviews(appID, num_pages=1))\n",
    "    return d"
   ]
  },
  {
   "cell_type": "code",
   "execution_count": 400,
   "metadata": {},
   "outputs": [
    {
     "data": {
      "text/plain": [
       "['org.twisevictory.apps',\n",
       " 'com.urbandroid.lux.donate',\n",
       " 'com.tmsoft.whitenoise.full',\n",
       " 'com.active.aps.c25k',\n",
       " 'com.abundanthealth4u.refguide4eo']"
      ]
     },
     "execution_count": 400,
     "metadata": {},
     "output_type": "execute_result"
    }
   ],
   "source": [
    "top_paid[:5]"
   ]
  },
  {
   "cell_type": "code",
   "execution_count": 402,
   "metadata": {},
   "outputs": [
    {
     "data": {
      "text/plain": [
       "{'com.abundanthealth4u.refguide4eo': {'category': 'HEALTH_AND_FITNESS',\n",
       "  'description': u'This convenient app runs on the Android family of phones and tablets.\\nThis app combines information from the authoritative Reference Guide for Essential Oils, written by Connie and Alan Higley, with convenient search and note-taking features. Use the app anytime, anywhere to quickly find and confidently use recommended essential oils and oil blends for hundreds of different health and wellness conditions.\\nThis app will become your go-to reference for personal essential oil use and for sharing your love of essential oils. The app features a personal guide section that details over 700 health topics for which essential oils are commonly used to help support the body\\u2019s natural ability to heal itself. Additionally, key information on over 100 single oils and more than 90 commercially-available oil blends will help you better understand and use essential oils.\\nThe app also includes essential oil application instructions, including detailed information about auricular internal body points, digestive tract, autonomic nervous system, and the nose and olfactory system.',\n",
       "  'installs': u'50,000+',\n",
       "  'reviews': '[{\"rating\": \"100\", \"review-text\": \"  Absolutely love this app. I use it several times a day and sometimes just study the info for looking periods of time learning all I can.   Full Review   \"}, {\"rating\": \"60\", \"review-text\": \"  I love this app but it\\'s not supported on my new phone the Pixel 2XL. I hope this can get fixed soon.   Full Review   \"}, {\"rating\": \"80\", \"review-text\": \"  The only reason that I don\\'t love this app is that it does not save my notes that I make! Please fix this issue.   Full Review   \"}, {\"rating\": \"80\", \"review-text\": \"  I like it so far, was able to read up on additional uses for some oils. I really wish there was a way you could bookmark you\\'re favorite oils for a quick reference.   Full Review   \"}, {\"rating\": \"100\", \"review-text\": \"  Absolutely thrilled now that the app has been updated to work on my new phone. This is my only go to app for oil usage and I will be recommending it to all my customers again.   Full Review   \"}, {\"rating\": \"80\", \"review-text\": \"  Can\\'t get notes to save. Any tips would change the rating to a 5 if I can get that resolved!   Full Review   \"}, {\"rating\": \"80\", \"review-text\": \"  Some pages don\\'t fit the screen, other than that it\\'s very useful on the go.  I wish it would have an option to gift it to someone .   Full Review   \"}, {\"rating\": \"80\", \"review-text\": \"  My only complaint is that it needs updated. There are new oils not in the app, and new blends that have not been updated.   Full Review   \"}, {\"rating\": \"60\", \"review-text\": \"  I love this app but I can\\'t get it to load on my new phone. I have a Pixel 2 and I paid for this app so I should be able to use it and an update should be available.   Full Review   \"}, {\"rating\": \"60\", \"review-text\": \"  Would be perfect, but I am unable to use the Notes section. It won\\'t let me type anything.   Full Review   \"}, {\"rating\": \"60\", \"review-text\": \"  It needs to be updated. Also, when I write notes it won\\'t save them. It would be nice if it included recipes for diffusing or blends.   Full Review   \"}, {\"rating\": \"100\", \"review-text\": \"  Yay!! So glad to finally be able to able to download on a newer device! Absolutely love this app. I use it daily...my go to at my fingertips!!!\\\\u00f0\\\\u009f\\\\u0092\\\\u009c   Full Review   \"}, {\"rating\": \"80\", \"review-text\": \"  I would rate 5 stars but this APP needs an update with newer oils.... overall great APP for YL oil basics   Full Review   \"}, {\"rating\": \"100\", \"review-text\": \"  So happy that I can finally download onto my Samsung Galaxy S7!  So much easier than carrying a reference book   Full Review   \"}, {\"rating\": \"60\", \"review-text\": \"  Could you please update this app. Many of the blends have changed recently and this app needs to be updated.   Full Review   \"}, {\"rating\": \"80\", \"review-text\": \"  I would like to see an update to include all the new oils & remove the ones that are permanently discontinued   Full Review   \"}, {\"rating\": \"80\", \"review-text\": \"  Love the app. It needs updated. There are oils that are no longer available and there are new oils that need added.   Full Review   \"}, {\"rating\": \"80\", \"review-text\": \"  I really like this app a lot. I just wish it included Supplements and Personal Care products too.   Full Review   \"}, {\"rating\": \"100\", \"review-text\": \"  I use this app almost daily to look up an oil or to find an oil for a particular situation.   Full Review   \"}, {\"rating\": \"100\", \"review-text\": \"  This was the best money spent on an app ever! So much information and so easy to use.   Full Review   \"}, {\"rating\": \"20\", \"review-text\": \"  It was good while it lasted but they do not update and there are a lot of oils that they are missing.   Full Review   \"}, {\"rating\": \"100\", \"review-text\": \"  Best EO app around.  I use it constantly.  Everything works, its easy to use.  I would be lost without this guide!!   Full Review   \"}, {\"rating\": \"60\", \"review-text\": \"  I hope you update the information. There are errors on ingredients, or outdated ingredients.   Full Review   \"}, {\"rating\": \"100\", \"review-text\": \"  This app is my go-to spot for all things essential Oils! Love it   Full Review   \"}, {\"rating\": \"100\", \"review-text\": \"  How can I transfer my essential Oil guide from phone to laptop it is taking a lot of GB?   Full Review   \"}, {\"rating\": \"100\", \"review-text\": \"  Excellent user friendly, comprehensive, easy to access, reference guide- for all sorts of applications in using essential oils has been       very helpful.   Full Review   \"}, {\"rating\": \"100\", \"review-text\": \"  This app is amazing. Saves so much money vs Dr. Visits   Full Review   \"}, {\"rating\": \"100\", \"review-text\": \"  Thank you so much for updating for the newer devices! All is right on my world again! Love this app!!!!!   Full Review   \"}, {\"rating\": \"80\", \"review-text\": \"  Great app but I cannot figure out why some oils are purple and some green?   Full Review   \"}, {\"rating\": \"60\", \"review-text\": \"  Would be great if it had all of the oils. Wish I would have know that prior to downloading.  Skip if you are looking for a full reference guide.   Full Review   \"}, {\"rating\": \"100\", \"review-text\": \"  I love this app! I use it daily. So helpful wherever I go and people have questions or issues - I  have answers!   Full Review   \"}, {\"rating\": \"100\", \"review-text\": \"  I love this app. I am so thankful it has been updated for the Google Pixel phone... I felt lost without it. Thanks!!   Full Review   \"}, {\"rating\": \"100\", \"review-text\": \"  This is my go-to app for every ache, pain, ailment, sickness or mood swing under the sun.  Absolutely love that there\\'s a \\'notes\\' section and a place to take notes for each single oil, blend, type of use/application & for every symptom/illness.  This app is super user friendly, the Vita Flex charts are a wonderful reference to have at my fingertips & the search bar for anything under the \\'Guide\\' section is fabulously useful.   I have shown this app to several other people who have decided to spend the $7-8 (whatever it costs, I forget since I\\'ve had it so long) on it because it\\'s so much easier than flipping thru a super thick book to find the info that is just a few clicks away in this app.   I had chest pains from anxiety and almost went into the hospital because of it. I looked up heart/chest pains in the guide and found Ylang Ylang and Aroma Life as a suggestion to diffuse or breathe in directly from the bottle. I tried it and within minutes my chest pain was gone and I was calm and relaxed.  I tried this out on a few friends who were having anxiety attacks and crying from mental breakdowns and it had the same effect on them. Within a few minutes their eyes were clear and they were smiling again.  I have, without even trying to do so, made a few non-believers actually begin to believe in the power of essential oils and aroma therapy bc of the help listed in this app!  Absolutely recommend 100%! Especially if you use Young Living essential oils, as many of the blends are Young Living\\'s own and you may not find them from other companies.   Hands down the best essential oil reference guide app I\\'ve ever had the pleasure of using! Thank you so much!   An update with some of the new oils would be wonderful, but I swear I\\'ve used this app enough to pay off that small charge for this app over a hundred times at least!   Easy Five Stars!    \\\\u00f0\\\\u009f\\\\u008c\\\\u009f\\\\u00f0\\\\u009f\\\\u008c\\\\u009f\\\\u00f0\\\\u009f\\\\u008c\\\\u009f\\\\u00f0\\\\u009f\\\\u008c\\\\u009f\\\\u00f0\\\\u009f\\\\u008c\\\\u009f   Full Review   \"}, {\"rating\": \"100\", \"review-text\": \"  Please update and add the new oils to it. Thanks   Full Review   \"}, {\"rating\": \"100\", \"review-text\": \"  Love this handy reference in my pocket, especially now that it\\'s been updated to work with my phone again! Yeah!   Full Review   \"}, {\"rating\": \"100\", \"review-text\": \"  Shows you everything from application of oils too symptoms and what oils to use love love love this app...   Full Review   \"}, {\"rating\": \"20\", \"review-text\": \"  Says app is disabled and to contact app manager. How do I do this?   Full Review   \"}, {\"rating\": \"80\", \"review-text\": \"  My reference book for eos (in my pocket)   Full Review   \"}, {\"rating\": \"100\", \"review-text\": \"  PLEASE UPDATE!!!   Full Review   \"}, {\"rating\": \"60\", \"review-text\": \"  Please update app with the newer oil blends like Cool Azul.   Full Review   \"}]',\n",
       "  'score': u'4.5',\n",
       "  'title': u'Ref. Guide for Essential Oils'},\n",
       " 'com.active.aps.c25k': {'category': 'HEALTH_AND_FITNESS',\n",
       "  'description': u'Get off the couch and get running with the OFFICIAL Couch to 5K\\xae training app! This oft-imitated program has helped thousands of new runners move from the couch to the finish line. Spend just 20 to 30 minutes, three times a week, for nine weeks, and you\\u2019ll be ready to finish your first 5K (3.1-mile) race!\\nWINNER of the 2012 Appy Award for best Healthcare & Fitness App!\\nFeatures\\n\\u2713Training plan designed by Active.com trainers\\n\\u2713Choose from 4 different motivating virtual coaches\\u2014Johnny Dead, Constance, Billie or Sergeant Block\\n\\u2713Hear human audio cues to guide you through each workout\\n\\u2713Listen to your favorite playlists with in-app music player\\n\\u2713Calculate your distance & pace and map your routes with FREE GPS support\\n\\u2713Log your workouts and share your progress on Facebook\\n\\u2713Get support from the largest running community on Active.com Trainer\\n\\u2713Repeat workouts and track your best performance\\n\\u2713Treadmill support allows manual entry of workouts\\n\\u2713Track your progress with total distance and average pace\\n\\u2713Graphs for workouts to compare distance and pace\\nFinished the Couch to 5K program and ready to take your running program to the next level? Check out our 5K to 10K app to prep for your first 10K race here https://play.google.com/store/apps/details?id=com.active.aps.tenk!\\nPraise\\n\"The popular Couch to 5K app helps new runners avoid injury from doing too much, too soon.\"\\n\\u2014Runners World, June 2012\\n\"It\\'s ridiculously easy to use (it\\'s hard not to, as you just do what you\\'re told) and it\\'s fantastic that you have an encouraging voice talking you through things.\"\\n\\u2014Engadget, June 2012\\n\"Active.com\\u2019s Couch to 5K is one of my favorite\\u2026 apps. With its customizable features, interactivity, and well-rounded interface, I may actually stay off the couch this time.\"\\n\\u2014148Apps, October 2011\\n\"I knew as soon as I decided to start the Couch to 5K program that I would need something to keep me accountable\\u2014not just to showing up for my training, but to actually doing it properly. Of course there\\u2019s an app for that.\"\\n\\u2014CalorieLab, April 2012\\n\"If you have been struggling to get your buns off the couch and somewhat in shape before the summer hits, training for a 5K is not a bad way to start. If you are looking for a program to help get you there, then the \\u201cCouch to 5K\\u201d running plan by CoolRunning is probably your best bet if you haven\\u2019t done an ounce of athletic activity for a number of years.\"\\n\\u2014Droid Life, April 2012\\nGet more information about the Couch to 5K app here: http://www.active.com/mobile/couch-to-5k-app\\nNotes\\n\\u2022 Once you purchase the app, it is yours to keep. It does not expire after 9 weeks.\\nFor additional support please contact us at: MobileSupport@activenetwork.com. We would love to hear from you.\\nTHIS APP AND ANY INFORMATION GIVEN BY IT OR THE ACTIVE NETWORK, LLC, ARE FOR INFORMATIONAL PURPOSES ONLY. THEY ARE NOT INTENDED NOR IMPLIED TO BE A SUBSTITUTE FOR PROFESSIONAL MEDICAL ADVICE. YOU SHOULD ALWAYS CONSULT YOUR HEALTHCARE PROVIDER BEFORE BEGINNING ANY FITNESS PROGRAM. IN PARTICULAR, THE ACTIVITIES AND EXERCISES DESCRIBED IN TRAINING PROGRAMS AND ARTICLES ON ACTIVE CAN BE DANGEROUS AND MAY RESULT IN INJURY OR DEATH. YOU MUST CONSULT WITH A LICENSED PHYSICIAN BEFORE PARTICIPATING IN ANY OF THE ACTIVITIES DESCRIBED IN THE APPLICATION.',\n",
       "  'installs': u'100,000+',\n",
       "  'reviews': '[{\"rating\": \"100\", \"review-text\": \"  Great and easy way to train for a 5K, notifications allow you to set the  app to go and it\\'ll track your route/distance and tell you when to run/wall.   Full Review   \"}, {\"rating\": \"100\", \"review-text\": \"  Super helpful and easy to use! Keeps me motivated and sets realistic  workouts for me.   Full Review   \"}, {\"rating\": \"20\", \"review-text\": \"  Nagged incessantly about a review, so here you go.   Full Review   \"}, {\"rating\": \"100\", \"review-text\": \"  This apps worth buying, really help beginner like me to start jogging.   Full Review   \"}, {\"rating\": \"100\", \"review-text\": \"  I love Couch to 5k. It keeps me motivated and is super easy to use.   Full Review   \"}, {\"rating\": \"100\", \"review-text\": \"  Love it! I am normally not a runner, but this app is ggetting me the help I  never knew I needed to run! \\\\u00f0\\\\u009f\\\\u0098\\\\u0084   Full Review   \"}, {\"rating\": \"100\", \"review-text\": \"  Great for beginners getting into running. Dont just go for it and injure  yourself, this app is so worth it!   Full Review   \"}, {\"rating\": \"100\", \"review-text\": \"  It doesn\\'t work now   Full Review   \"}, {\"rating\": \"100\", \"review-text\": \"  This app have come a long way since it\\'s initial release... With a vastly  improved ui.   Full Review   \"}, {\"rating\": \"100\", \"review-text\": \"  Simple, effective: has everything I imagine I could want to guide me to  running 5km.   Full Review   \"}, {\"rating\": \"100\", \"review-text\": \"  The voices could do with some more stuff to say during the run   Full Review   \"}, {\"rating\": \"100\", \"review-text\": \"  Great app, does exactly what it\\'s supposed to do. I would love Myfitnesspal integration but that\\'s it.   Full Review   \"}, {\"rating\": \"100\", \"review-text\": \"  Helpful, easy to use, and definitely appropriate for all skill levels who  want to learn to enjoy running!   Full Review   \"}, {\"rating\": \"100\", \"review-text\": \"  Has worked well to get me moving.   Full Review   \"}, {\"rating\": \"100\", \"review-text\": \"  Well , this one is the best of all.   Full Review   \"}, {\"rating\": \"100\", \"review-text\": \"  Great conditioning app, money well spent. Thank you!   Full Review   \"}, {\"rating\": \"100\", \"review-text\": \"  I think I like it.   Full Review   \"}, {\"rating\": \"80\", \"review-text\": \"  Works for me.   Full Review   \"}, {\"rating\": \"100\", \"review-text\": \"  Best way to spend money. Great app.   Full Review   \"}, {\"rating\": \"100\", \"review-text\": \"  Great app that motivates me to get in better shape!   Full Review   \"}, {\"rating\": \"100\", \"review-text\": \"  This is the second time using this app. Love it. It\\'s simple.   Full Review   \"}, {\"rating\": \"80\", \"review-text\": \"  Would like a more variety of coaches and more treadmill friendly   Full Review   \"}, {\"rating\": \"100\", \"review-text\": \"  This app is fantastic for keeping me motivated!!   Full Review   \"}, {\"rating\": \"100\", \"review-text\": \"  Perfect to get you into 5k readiness.   Full Review   \"}, {\"rating\": \"100\", \"review-text\": \"  Very good at making it easy to run a 5k   Full Review   \"}, {\"rating\": \"100\", \"review-text\": \"  Great app that is at a nice place to train at.   Full Review   \"}, {\"rating\": \"100\", \"review-text\": \"  It is a great app and a fantastic program.   Full Review   \"}, {\"rating\": \"100\", \"review-text\": \"  Great for beginners who need to get moving.   Full Review   \"}, {\"rating\": \"100\", \"review-text\": \"  Best app for beginner runners !   Full Review   \"}, {\"rating\": \"100\", \"review-text\": \"  So far so good!   Full Review   \"}, {\"rating\": \"100\", \"review-text\": \"  It\\'s awesome, worth the money   Full Review   \"}, {\"rating\": \"100\", \"review-text\": \"  Easy to use and the trainers are fun.   Full Review   \"}, {\"rating\": \"100\", \"review-text\": \"  This app is amazing!   Full Review   \"}, {\"rating\": \"100\", \"review-text\": \"  This is very helpful   Full Review   \"}, {\"rating\": \"100\", \"review-text\": \"  Excellent tool.   Full Review   \"}, {\"rating\": \"100\", \"review-text\": \"  Awesome!   Full Review   \"}, {\"rating\": \"100\", \"review-text\": \"  Love it!   Full Review   \"}, {\"rating\": \"100\", \"review-text\": \"  Luv it   Full Review   \"}, {\"rating\": \"100\", \"review-text\": \"  Motivating   Full Review   \"}, {\"rating\": \"20\", \"review-text\": \"  I would probably give this app a better rating if I could even use it. I\\'d  kind of like to ask for a refund! 3 bucks and it never gets past the  \\'powered by Active\\' screen. Lousy. Purchased this app to help my lady with  some support on her marathon quest. I don\\'t even care for running. You  could imagine my disappointment when even after the recent update, I still  cannot use it.   Full Review   \"}]',\n",
       "  'score': u'4.6',\n",
       "  'title': u'Couch to 5K\\xae'},\n",
       " 'com.tmsoft.whitenoise.full': {'category': 'HEALTH_AND_FITNESS',\n",
       "  'description': u'Recommended as a miracle for better sleep! Find out why the world is sleeping better with White Noise. Features ambient sounds of the environment to help you relax during the day and sleep great at night.\\nDo you have trouble going to sleep?  Are you traveling on a plane and need a quick power nap?  Does your newborn baby wake up in the middle of the night?  There are numerous benefits to using White Noise:\\n\\u2022\\tHelps you sleep by blocking distractions\\n\\u2022\\tRelaxes and reduces stress\\n\\u2022\\tPacifies fussy and crying babies\\n\\u2022\\tIncreases focus while enhancing privacy\\n\\u2022\\tSoothes headaches and migraines\\n\\u2022\\tMasks tinnitus (ringing of the ears)\\nEven when you\\u2019re asleep, your brain is constantly scanning and listening for sounds. If it\\u2019s too quiet, unwanted noises such as faucet drips or police sirens can interrupt your sleep. White Noise generates sounds over a wide range of frequencies, masking those noise interruptions, so you can not only fall asleep, but stay asleep.\\nSOUND CATALOG\\n40 sounds are included as part of the application (no downloading required unless you want more) including all the color noises (brown, white, pink, etc), mechanical sounds like a bedroom fan or air conditioner, light to heavy rains, rushing water sounds, beach and ocean waves, and so much more.  For the entire list of sounds please visit our website.  No streaming is required for playback.\\nAPPLICATION FEATURES\\n\\u2022\\t40+ perfectly looped sounds with additional free sounds from the White Noise Market at https://whitenoisemarket.com/\\n\\u2022       Record and loop new sounds with total ease\\n\\u2022\\tBackground audio support so you can use other apps while listening\\n\\u2022       App Widget and Chromecast TV support for audio control and playback.  (Note: Chromecast audio devices require using the Google Home app)\\n\\u2022\\tCreate new soundscapes by mixing multiple noises together with support for adjusting volume, balance, and pitch of each individual sound in the mix.\\n\\u2022\\tFull screen digital clock with multiple colors and brightness controls makes it the perfect companion for any nightstand\\n\\u2022\\tAdvanced alarm and timer system that slowly fades audio in and out so you awake naturally feeling more refreshed\\n\\u2022\\tOn-screen media player and volume controls with swipe gesture support for navigating sound collection\\n\\u2022\\tStar favorite sounds and mixes in the sound catalog for quick access using the Favorite view\\n\\u2022\\tDesigned to work on all Android-based phones and tablets\\n\\u2022\\tAdvanced Settings let you prevent interruptions such as notifications, tweak buffer size for optimal playback, adjust sound volume, balance, pitch, custom alarm snooze times, and more.  All the pro tools and settings you need for better sleep.\\n\\u2022\\tNo Advertising\\nPRESS REVIEWS\\nWhite Noise has been featured by numerous publications and media outlets including Consumer Reports, Today Show, The Dr. Oz Show, Fox & Friends First, Time, The Washington Post, Health Magazine, NY Times, Macworld, PC Magazine, PC World, CNET, Esquire, and Late Night with Jimmy Fallon show.\\nPERMISSIONS EXPLAINED:\\nWAKE_LOCK / DISABLE_KEYGUARD: Alarms unlock and wake the device\\nWRITE_EXTERNAL_STORAGE: Downloaded and exported sounds are written to external storage\\nRECORD_AUDIO / MICROPHONE: Create and loop new recordings\\nCAMERA: Assign photo to your recordings. Camera is not used for anything else.\\nLOCATION / READ_GSERVICES: Geo Tag your new recording. Location is not used for anything else.',\n",
       "  'installs': u'100,000+',\n",
       "  'reviews': '[{\"rating\": \"100\", \"review-text\": \"  Great for concentrating, sleeping when away from home, but especially when I have a migraine...this is the ONLY thing I\\'ve found that keeps noise fromthe pounding in my head worse. I especially like the ability to make soothing custom mixes.   Full Review   \"}, {\"rating\": \"100\", \"review-text\": \"  I absolutely love this application (have had it for over three years). It  definitely does its job and the way you can combine sounds is awesome.  Really nice that they are updating with more and more sounds, some of which  are rather odd to me, but work for others.   Full Review   \"}, {\"rating\": \"100\", \"review-text\": \"  I have Fibromyalgia which causes a lot of sleep issues. This app helps me  relax and drowns out other noises which might interrupt the little sleep I  do get. Easy to use and modify to your taste.   Full Review   \"}, {\"rating\": \"20\", \"review-text\": \"  Absolute JUNK! The developer deceives users to make it appear the app has  ZERO ads - why charge for an ad based app? But u are actually paying for an  app with ads everywhere. Save ur hard earned dollars and give this useless  junk a miss.   Full Review   \"}, {\"rating\": \"100\", \"review-text\": \"  Android has finally caught up to iOS. This is the app I\\'ve been waiting  for. Now if only there were a way to control mixed sound volumes  independently...   Full Review   \"}, {\"rating\": \"60\", \"review-text\": \"  I enjoy the app when I just have my phone, but would like to \\'cast\\' to my Google Mini and the only thing the app will let me \\'cast\\' to is my Chromecast on my tv in the living room.  I do not need the app to play on my tv when I am sleeping!   Full Review   \"}, {\"rating\": \"80\", \"review-text\": \"  The app is robust and great at what it does. The design could use a  \\'Material\\' design overhaul. It would also be great if it had Google Home &  Chromecast Audio support. It has regular Chromecast support, but the  ability to cast to a speaker would be a killer feature. It would also be  good if this app\\'s alarm clock feature could sync with the phone\\'s default  alarm clock, so that users wouldn\\'t need to set two alarms.   Full Review   \"}, {\"rating\": \"60\", \"review-text\": \"  Very difficult and confusing to configure. If you want to just pick a sounds and play it does it. Select a sleep timer or try to create a mix, get ready for fustration   Full Review   \"}, {\"rating\": \"40\", \"review-text\": \"  Apparently paying for the app isn\\'t good enough. I also am repeatedly  prompted to buy additional sounds. There are also pop up ads every time I  open the app. Don\\'t bother with the pay version, just use the free version   Full Review   \"}, {\"rating\": \"100\", \"review-text\": \"  Great for falling asleep to, especially if there is a snorer that usually keeps you awake. I love that it continues while other apps are open so I can read an email or play a game without it shutting off. Love it.   Full Review   \"}, {\"rating\": \"100\", \"review-text\": \"  Only use basic functions, but very pleased with app. Would prefer if I  could choose the order of my alarms list, but it\\'s a minor irritant.   Full Review   \"}, {\"rating\": \"100\", \"review-text\": \"  This has been my go-to sleep app for years. Can\\'t live without my pink  noise!   Full Review   \"}, {\"rating\": \"40\", \"review-text\": \"  Buy app and find out I I have to buy another app to not get adv.  *edit* The postcard is an advertisement, even if it\\'s your own product.  It should only show up if I click on the postcard, not on pretty much everything you touch.  It\\'s pretty damn annoying, especially since you get at link to the pro version so it doesn\\'t show up.  Don\\'t get me wrong I have no problems, paying for my apps.  I definitely don\\'t like how you sell this app.  And yes I did buy the Pro version so the postcard would go away.*2nd edit*Thanks for the tip on disabling postcard.  This should be the default setup and then ask the customer if they want to have the postcard enabled during the first time use.  The postcard is definitely an annoying feature. None of your screen shots have this feature in them.  If your proud of this feature then show them in your screen shots.   Full Review   \"}, {\"rating\": \"100\", \"review-text\": \"  I\\'ve had this app since 2015, phenomenal! Brown noise is way more sleep  comfortable than a fan. Five stars easily!   Full Review   \"}, {\"rating\": \"100\", \"review-text\": \"  Great app. Can\\'t sleep without it. If you need to drown out unwanted sounds  this is the ticket.   Full Review   \"}, {\"rating\": \"100\", \"review-text\": \"  I use this app to block out music on the radio, the kids TV shows, and use  it to help me sleep. This is a great app and I appreciate it.   Full Review   \"}, {\"rating\": \"20\", \"review-text\": \"  This used to work with all our various Chromecast Audio devices but apparently that feature was removed or there\\'s a bug because now it only works with our Chromecast Video which defeats the purpose of the app. We have Chromecast Audio speakers in our bedroom. The TV is for our home theater, not the bedroom. I spent money on this app because at that point it worked with Chromecast Audio, not Chromecast Video.   Full Review   \"}, {\"rating\": \"40\", \"review-text\": \"  I bought for the timer feature. Worked great for awhile but now it doesn\\'t start when specified. I uninstalled and tried again still doesn\\'t work right. :(   Full Review   \"}, {\"rating\": \"100\", \"review-text\": \"  A solid app for relaxation. The customisation and mixing options for sounds  let you make 100% unique sound scapes to keep things feeling new and  natural.   Full Review   \"}, {\"rating\": \"100\", \"review-text\": \"  Rated back to 5 as promised. The app is fine, user is an idiot. It was  another app causing the issue.   Full Review   \"}, {\"rating\": \"100\", \"review-text\": \"  Really works for my brain...seems to give it enough static for my brain\\'s  chatter to lessen so I can sleep.   Full Review   \"}, {\"rating\": \"60\", \"review-text\": \"  It does play sounds, but the interface is very clunky. It doesn\\'t follow  screen lock, and it is hard to select from a list of sounds.   Full Review   \"}, {\"rating\": \"60\", \"review-text\": \"  Randomly adjusts volume when I move my phone that has the screen and  buttons protected by a case. Its weird   Full Review   \"}, {\"rating\": \"100\", \"review-text\": \"  I don\\'t buy apps usually. This app has come in use many times,whether sleeping relaxing, or studying. I turn to it at least 5 out of 7 days of the week.   Full Review   \"}, {\"rating\": \"60\", \"review-text\": \"  Loved it at first, but it stalls and wakes me up during the night, so I\\'ve  stopped using it :/ Why is it skipping and stalling?   Full Review   \"}, {\"rating\": \"40\", \"review-text\": \"  Was great until started getting notifications ads. Why? I use the paid version so I don\\'t get ads. Still does it\\'s job so it gets two stars.   Full Review   \"}, {\"rating\": \"60\", \"review-text\": \"  Pushes notifications for blog entries. No way to disable.   Full Review   \"}, {\"rating\": \"60\", \"review-text\": \"  Needs Google home support. Who wants to play on a chromecast when a TV is  lighting up the whole room?   Full Review   \"}, {\"rating\": \"100\", \"review-text\": \"  I like to listen to the ocean sound. Or brown noise.   Full Review   \"}, {\"rating\": \"100\", \"review-text\": \"  Only white noise/relaxing sounds app you will ever need. You can combine  sounds and also download or record your own sounds.   Full Review   \"}, {\"rating\": \"100\", \"review-text\": \"  Awesome for noisy environments. Much selection of white noise.   Full Review   \"}, {\"rating\": \"20\", \"review-text\": \"  Bought this app why should i get the noise market app?   Full Review   \"}, {\"rating\": \"100\", \"review-text\": \"  Beyond belief! The key to defeating Trump!! Possible cure for cancer!!!   Full Review   \"}, {\"rating\": \"100\", \"review-text\": \"  I love this app soooo much, I\\'ve used it for a few years now and I hope to keep using it forever lol! \\\\u00e2\\\\u009d\\\\u00a4\\\\u00ef\\\\u00b8\\\\u008f   Full Review   \"}, {\"rating\": \"100\", \"review-text\": \"  Amazing app so much so I paid for the upgrade really helps me to fall  asleep and the timer with the fade to off setting is brilliant   Full Review   \"}, {\"rating\": \"20\", \"review-text\": \"  I paid for the full version of this app. It has now started sending me advertisements as notifications   Full Review   \"}, {\"rating\": \"80\", \"review-text\": \"  I\\'d give it five stars if it was louder. On my phones it is not as loud as  Google Play Music   Full Review   \"}, {\"rating\": \"100\", \"review-text\": \"  I like it as an alarm, it\\'s quite effective, I like the fact that you can  record your own sounds for it as well, I defenitely recommend!   Full Review   \"}, {\"rating\": \"100\", \"review-text\": \"  I love this app. I\\'ve used it for years and it helps. Now my wife and newborn son also enjoy it!   Full Review   \"}, {\"rating\": \"100\", \"review-text\": \"  Finally, a sound machine that does everything you want, as well as maintaining a high level of commitment to the product!   Full Review   \"}]',\n",
       "  'score': u'4.7',\n",
       "  'title': u'White Noise'},\n",
       " 'com.urbandroid.lux.donate': {'category': 'HEALTH_AND_FITNESS',\n",
       "  'description': u'Are you having trouble falling asleep? Are your kids hyperactive when playing with the tablet before bed time?\\nAre you using your smart phone or tablet in the late evening? Twilight may be a solution for you!\\nWARNING: Android O does no allow the app to cover your notifications and lockscreen anymore. We have some workarounds like wallpaper filtering etc..\\nRecent research suggests that exposure to blue light before sleep may distort your natural (circadian) rhythm and cause inability to fall asleep.\\nThe cause is the photoreceptor in your eyes, called Melanopsin. This receptor is sensitive to a narrow band of blue light in the 460-480nm range which may suppress Melatonin production - a hormone responsible for your healthy sleep-wake cycles.\\nIn experimental scientific studies it has been shown an average person reading on a tablet or smart phone for a couple of hours before bed time may find their sleep delayed by about an hour.\\nThe Twilight app makes your device screen adapt to the time of the day. It filters the blue spectrum on your phone or tablet after sunset and protects your eyes with a soft and pleasant red filter. The filter intensity is smoothly adjusted to the sun cycle based on your local sunset and sunrise times.\\nPRO features\\n- more than 2 predefined profiles\\n- adjustable transition time\\n- option to turn off Twilight service altogether during inactive times\\n- new features will often first appear as PRO\\nThank you very much for your intention to support our development. This is a pro application for the Twilight app. Please install on top, do not uninstall Twilight first.\\nPlease read the basics on circadian rhythm and the role of melatonin:\\nhttp://en.wikipedia.org/wiki/Melatonin\\nhttp://en.wikipedia.org/wiki/Melanopsin\\nhttp://en.wikipedia.org/wiki/Circadian_rhythms\\nhttp://en.wikipedia.org/wiki/Circadian_rhythm_disorder\\nExamples of related scientific research:\\nAmplitude Reduction and Phase Shifts of Melatonin, Cortisol and Other Circadian Rhythms after a Gradual Advance of Sleep and Light Exposure in Humans\\nDerk-Jan Dijk, Jeanne F. Duffy, Edward J. Silva, Theresa L. Shanahan, Diane B. Boivin, Charles A. Czeisler 2012\\nExposure to Room Light before Bedtime Suppresses Melatonin Onset and Shortens Melatonin Duration in Humans\\nJoshua J. Gooley, Kyle Chamberlain, Kurt A. Smith, Sat Bir S. Khalsa, Shantha M. W. Rajaratnam, Eliza Van Reen, Jamie M. Zeitzer, Charles A. Czeisler, Steven W. 2011\\nEffect of Light on Human Circadian Physiology\\nJeanne F. Duffy, Charles A. Czeisler 2009\\nEfficacy of a single sequence of intermittent bright light pulses for delaying circadian phase in humans\\nClaude Gronfier, Kenneth P. Wright, Richard E. Kronauer, Megan E. Jewett, Charles A. Czeisler 2009\\nIntrinsic period and light intensity determine the phase relationship between melatonin and sleep in humans\\nKenneth P. Wright, Claude Gronfier, Jeanne F. Duffy, Charles A. Czeisler 2009\\nThe Impact of Sleep Timing and Bright Light Exposure on Attentional Impairment during Night Work\\nNayantara Santhi, Daniel Aeschbach, Todd S. Horowitz, Charles A. Czeisler 2008\\nShort-Wavelength Light Sensitivity of Circadian, Pupillary, and Visual Awareness in Humans Lacking an Outer Retina\\nFarhan H. Zaidi, Joseph T. Hull, Stuart N. Peirson, Katharina Wulff, Daniel Aeschbach & Co 2007\\nHigh sensitivity of the human circadian melatonin rhythm to resetting by short wavelength light.\\nLockley SW, Brainard GC, Czeisler CA. 2003\\nSensitivity of the human circadian pacemaker to nocturnal light: melatonin phase resetting and suppression\\nJamie M Zeitzer, Derk-Jan Dijk, Richard E Kronauer, Emery N Brown, Charles A Czeisler 2000\\nPhase-shifting human circadian rhythms: influence of sleep timing, social contact and light exposure\\nJ F Duffy, R E Kronauer, C A Czeisler 1996\\nExposure to bright light and darkness to treat physiologic maladaptation to night work.\\nCzeisler CA..',\n",
       "  'installs': u'100,000+',\n",
       "  'reviews': '[{\"rating\": \"40\", \"review-text\": \"  There is an issue while downloading. Sometimes it shows that i haven\\'t even bought the app even if i bought it   Full Review   \"}, {\"rating\": \"60\", \"review-text\": \"  Hi. While purchasing pro license, I received error thrice saying you already have purchased this product. Even after which I was charged Rs. 25 thrice. Could you please verify and refund the amount. Thanks.   Full Review   \"}, {\"rating\": \"40\", \"review-text\": \"  App does not work on navbar in landscape mode on Lenovo TB-8704F tablet.  Even while I have \\'filter navbar in landscape\\' option enabled. I have  Twilight Pro version.   Full Review   \"}, {\"rating\": \"80\", \"review-text\": \"  It\\'s great, really nice when activating the screen at night, no pain by the bright white.  It would be awesome if the widget could be modified, in terms of transparency, or even color.   Full Review   \"}, {\"rating\": \"100\", \"review-text\": \"  It\\'s good. Works perfectly but I wish I could set different color rather than just yellow. I understand yellow is universal but other colors should be there as an option.   Full Review   \"}, {\"rating\": \"100\", \"review-text\": \"  I tried it for a while and I can say that it is the best App!! and if the price is worth the money, thank  you  for the development!!.   Full Review   \"}, {\"rating\": \"80\", \"review-text\": \"  Amazing, just one request add stop button in notification toggle bar.   Full Review   \"}, {\"rating\": \"100\", \"review-text\": \"  Great app! Really worth it. Custom schedule is great and transition is great too.   Full Review   \"}, {\"rating\": \"100\", \"review-text\": \"  Great app. Does what its suppose to. Wish I could get a lil tutorial.   Full Review   \"}, {\"rating\": \"100\", \"review-text\": \"  I watch YouTube before I go to bed but I have to turn the brightness down but with this I do not have to do anything   Full Review   \"}, {\"rating\": \"100\", \"review-text\": \"  Had it for a while now.. And I still love this app   Full Review   \"}, {\"rating\": \"40\", \"review-text\": \"  Experienced accidental screen blinks on Samsung A5. Also a monstrous  battery consumer.   Full Review   \"}, {\"rating\": \"60\", \"review-text\": \"  Please add more pre-set mode Like:- indoor mode, outdoor mode, moon light  mode, flurocent mode etc   Full Review   \"}, {\"rating\": \"100\", \"review-text\": \"  Very good, and I feel like it legitimately helps me fall asleep.   Full Review   \"}, {\"rating\": \"100\", \"review-text\": \"  Gets the job done, and I know it helps me get to sleep.   Full Review   \"}, {\"rating\": \"80\", \"review-text\": \"  does it have issues with Android P?   Full Review   \"}, {\"rating\": \"60\", \"review-text\": \"  Bought the pro version to stop it from constantly running, but it\\'s buggy.   Full Review   \"}, {\"rating\": \"60\", \"review-text\": \"  Gave only three because I have to restart the app every time I restart my phone.   Full Review   \"}, {\"rating\": \"20\", \"review-text\": \"  It isn\\'t working in my Meizu m2 note, anymore!   Full Review   \"}, {\"rating\": \"100\", \"review-text\": \"  I\\'ve fallen in love   Full Review   \"}, {\"rating\": \"100\", \"review-text\": \"  Works great!   Full Review   \"}, {\"rating\": \"100\", \"review-text\": \"  Great for reducing eye strain at night   Full Review   \"}, {\"rating\": \"80\", \"review-text\": \"  Whats the diff between unlocked and locked twilight app?   Full Review   \"}, {\"rating\": \"100\", \"review-text\": \"  Must have for dark environment use.   Full Review   \"}, {\"rating\": \"100\", \"review-text\": \"  Lovely and useful app. Thank you.   Full Review   \"}, {\"rating\": \"100\", \"review-text\": \"  Extremely beneficial to my needs.   Full Review   \"}, {\"rating\": \"20\", \"review-text\": \"  Worst app   Full Review   \"}, {\"rating\": \"80\", \"review-text\": \"  Worth Buying...   Full Review   \"}, {\"rating\": \"100\", \"review-text\": \"  Top app among thousands. I\\'m using pro version.   Full Review   \"}, {\"rating\": \"100\", \"review-text\": \"  Does exactly what it says and is very straightforward to use. Highly recommended.   Full Review   \"}, {\"rating\": \"100\", \"review-text\": \"  Perfect For Eyes   Full Review   \"}, {\"rating\": \"20\", \"review-text\": \"  battery draining faster....   Full Review   \"}, {\"rating\": \"100\", \"review-text\": \"  A good app to save your eyes from strain...   Full Review   \"}, {\"rating\": \"100\", \"review-text\": \"  Great app and super responsive developer.   Full Review   \"}, {\"rating\": \"100\", \"review-text\": \"  So worth it   Full Review   \"}, {\"rating\": \"80\", \"review-text\": \"  It really helps!   Full Review   \"}, {\"rating\": \"20\", \"review-text\": \"  Bugs   Full Review   \"}, {\"rating\": \"100\", \"review-text\": \"  Excellent application...   Full Review   \"}, {\"rating\": \"100\", \"review-text\": \"  Good   Full Review   \"}, {\"rating\": \"100\", \"review-text\": \"  Just Fantastic!!!!!   Full Review   \"}]',\n",
       "  'score': u'4.4',\n",
       "  'title': u'Twilight Pro Unlock'},\n",
       " 'org.twisevictory.apps': {'category': 'HEALTH_AND_FITNESS',\n",
       "  'description': u'\"The Wonder Weeks app can be a lifesaver for parents during those times of wondering what on earth is going on.\"\\nA CALENDAR EXPLAINING THE DEVELOPMENT OF YOUR BABY: WHY YOUR BABY IS FUSSY, SLEEPS POOR AND EATS LESS DURING SET TIMES AND HOW YOU CAN HELP YOUR BABY.\\n================================================\\nTHE BEST APP AROUND THE GLOBE\\n\\u2022\\tAwarded Coolest App for Moms\\n\\u2022\\tAwarded by Apple as top 10 \\u2018Best of the year 2016\\u2019 in Australia, UK, Netherlands, and a great number of other countries.\\n\\u2022\\tConsumer Choice & Gold Award by MumIi\\n\\u2022\\tAppRx Awards Top 10 Children\\u2019s Health App\\n\\u2022\\tNHS (UK) \\u2013 Best App for parents listing.\\n\\u2022\\tBest App Ever Wards 2013 & 2014 (Health & Fitness)\\n\\u2022\\tTop 25 App in health & fitness is most countries around the world.\\n================================================\\nThe Wonder Weeks worldwide bestselling baby app is a personalised daily calendar of your baby\\u2019s development that will keep you informed about the (mental) leaps and bounds and the fussy phases of your baby -- any time of day or night. This baby calendar app won prizes in several countries as BEST PARENTING APP!\\nThink of it as a portable, at-a-glance version of the calendar leap chart in The Wonder Weeks. Where the book describes in-depth and easy-to-understand terms the incredible developmental changes your baby goes through, the app is the perfect leap calendar companion to track your baby\\u2019s mental development (during the first 20 months).\\u2028By knowing what is going on inside the head of your baby, you can help him to make the leap more easily and stimulate his development.\\nThe Wonder Weeks app helps new parents by:\\n- Calendar Showing when your baby makes a leap in his mental development\\n- What your baby can understand & learn after this mental leap\\n- What your baby can do after this leap\\n- What you can do to help your baby\\nThis app is also a handy reminder for new parents when their baby\\u2019s brain is changing, or \\u201cleaping,\\u201d the baby is making a significant advance in mental development, and with each step forward comes a drastic change in the way your baby sees the world around him. Because these leaps come so quickly, the \\u201cnew world\\u201d and new abilities can sometimes be scary, and the development can initially manifest in poor sleep, bad appetite, crying, clinging and crankiness \\u2013 exhausting and frustrating mom and dad.\\nDisclaimer:\\u2028 \\u2028This App is developed with the greatest care. Neither the developer nor the author shall nevertheless be liable for any damages arising from any inaccuracies or omissions in this app.\\nPlease send your feedback, comments or complaints to:\\nsupport.android@thewonderweeks.com\\nIf you liked the app, please leave a comment. Thanks for your review :)\\n** Marco **',\n",
       "  'installs': u'500,000+',\n",
       "  'reviews': '[{\"rating\": \"60\", \"review-text\": \"  Wish there were more parenting tools. Though you can only read 1 chapter of the book, then it has to be purchased. But I do love understanding what my little is going through during his leaps.   Full Review   \"}, {\"rating\": \"100\", \"review-text\": \"  Love the app myself, but when I recommended it to a friend, she told me that she didn\\'t want to have to pay for it. I downloaded for free on Google play store for Android, but she can\\'t get it for free with the same platform. Not sure why that would be.   Full Review   \"}, {\"rating\": \"100\", \"review-text\": \"  I recommend this app to every new mom I meet it really helps chart what\\'s  going on with your baby when your baby can\\'t communicate   Full Review   \"}, {\"rating\": \"100\", \"review-text\": \"  I like it very much. All the leaps and fussy periods from the chart matched my baby\\'s mood :)   Full Review   \"}, {\"rating\": \"100\", \"review-text\": \"  This app helped me so, so much understanding my little one and the reasons  behind his moods and crying spells.   Full Review   \"}, {\"rating\": \"100\", \"review-text\": \"  I\\'ve used the Wonder Weeks app for 5 years and 2 children. This is a  fabulous reference tool. The content was always excellent and the app has  improved with each release. Thank you to the team.   Full Review   \"}, {\"rating\": \"80\", \"review-text\": \"  Good to know those things in right time so you can follow your baby. Nicely done application.   Full Review   \"}, {\"rating\": \"80\", \"review-text\": \"  I was hoping for some more details between weeks such as the types of games  the babies may enjoy etc., but it only changes on a weekly basis it seems.   Full Review   \"}, {\"rating\": \"100\", \"review-text\": \"  How do I change the due date? K accidentally put in her birth date   Full Review   \"}, {\"rating\": \"100\", \"review-text\": \"  I actually like this application but I dislike the after sales service I  emailed from 8 November reporting that the videos are unable to be played  but until today 22nd November I still got no any replies   Full Review   \"}, {\"rating\": \"20\", \"review-text\": \"  My baby w as born at 37+1 and i put in his real due date but his leap seems to be haopening earlier than it says. Maybe you should have a premie baby section so it lines up with their actions   Full Review   \"}, {\"rating\": \"80\", \"review-text\": \"  Informative and easy to read/use. Great to get a heads up of upcoming  milestones and fussiness that might coincide.   Full Review   \"}, {\"rating\": \"100\", \"review-text\": \"  We absolutely love this little app, it has aleviated so much stress now  that we know what to expect when the \\'wonder weeks\\' hit   Full Review   \"}, {\"rating\": \"100\", \"review-text\": \"  Fantastic so to help me prepare for what my baby will do next and make  sense of her actions.   Full Review   \"}, {\"rating\": \"100\", \"review-text\": \"  Some of the best \\'heads up\\' information about your child\\'s development in an easy-to-use app. Recommended to me by a friend and I will continue to recommend it to others   Full Review   \"}, {\"rating\": \"80\", \"review-text\": \"  I love the book so when I find an app that I can easily read on the go. It is very convenient and helpful! I paid for the full version and live seeing the charts very interesting!   Full Review   \"}, {\"rating\": \"100\", \"review-text\": \"  This is the first app that I paid money for, and it is well worth it. It is full of information that helps my daughter and I navigate her transitions. This is a great educational resource.   Full Review   \"}, {\"rating\": \"100\", \"review-text\": \"  This app is great for advise and information, helps to anticipate changes  and challenges ahead. Ive been recommending this app   Full Review   \"}, {\"rating\": \"100\", \"review-text\": \"  I like the thorough explanations, it is a nice tool to help you understand  what your baby is going through and to prepare for what is coming your way.   Full Review   \"}, {\"rating\": \"100\", \"review-text\": \"  Easy to use app. Im glad other moms told me about it as it\\'s made me understand so much more about my sons development   Full Review   \"}, {\"rating\": \"60\", \"review-text\": \"  I regret paying money for this app. If I was really curious I should\\'ve  just bought the book. I would rather put my phone down and watch my child  go through these \\'leaps\\' than have my phone tell me when it\\'s going to  happen. This just feeds into my phone addiction (which we all suffer from)  and takes away the unpredictability of raising a child.   Full Review   \"}, {\"rating\": \"20\", \"review-text\": \"  I still am unable to install this app\\'_\\'   Full Review   \"}, {\"rating\": \"100\", \"review-text\": \"  This is spot on! It is reassuring to know that a leap is happening when my baby gets fussy for extended periods.   Full Review   \"}, {\"rating\": \"100\", \"review-text\": \"  I love this app. I\\'ve used this book with my first and the app makes it even easier with the second. It works really well with my kids \\\\u00f0\\\\u009f\\\\u0098\\\\u0080   Full Review   \"}, {\"rating\": \"100\", \"review-text\": \"  Great summary of the book. I read the book with my first baby and have only  used the app with number 2. It\\'s a great tool.   Full Review   \"}, {\"rating\": \"40\", \"review-text\": \"  I heard such great things about this app and maybe I was just expecting too  much, \\'the wonder weeks\\' makes me think you get weekly updates like the  ovia parenting one but that\\'s daily, and that app stopped working on my  phso I really wanted a good replacement, for an app that gives you updates  soooo far in between and then just repeats stuff? Should not be a payed app  at all imo, Ovia is free and has so many more. Resources   Full Review   \"}, {\"rating\": \"100\", \"review-text\": \"  I love knowing what\\'s coming up and being forewarned of what my baby is  going through. The information given in the app is accurate information.   Full Review   \"}, {\"rating\": \"100\", \"review-text\": \"  Great app for figuring out growth spurts, happy weeks and why we have some  fussy days   Full Review   \"}, {\"rating\": \"100\", \"review-text\": \"  Thank you so much for a great app. I now understand my little one so much  better and have a lot more patience.   Full Review   \"}, {\"rating\": \"100\", \"review-text\": \"  Amazing. And very accurate to what\\'s going on. As a first time mom this app  really saved me some days!   Full Review   \"}, {\"rating\": \"100\", \"review-text\": \"  Absolutely love this app! It is so spot on with my little one and I love knowing the development she is going through.   Full Review   \"}, {\"rating\": \"100\", \"review-text\": \"  Amazing app to track baby\\'s leaps and usually really accurate. So much information about milestones and how to help baby achieve them   Full Review   \"}, {\"rating\": \"100\", \"review-text\": \"  It\\'s nice knowing how to help my child learn and for my husband and I to know when to expect TeKaa vs Te Fiti.   Full Review   \"}, {\"rating\": \"100\", \"review-text\": \"  Great for tracking development, like the suggested activities to challenge  and develop age-related skills at each stage.   Full Review   \"}, {\"rating\": \"60\", \"review-text\": \"  I purchased a new phone and now cannot access the app. I don\\\\u00e2\\\\u0080\\\\u0099t want to be forced to purchase again.   Full Review   \"}, {\"rating\": \"100\", \"review-text\": \"  I absolutely love this app. It helps me understand what my baby is going through and how to help her development.   Full Review   \"}, {\"rating\": \"100\", \"review-text\": \"  Excellent app with great information. I love the videos and the ability to take notes. The app is easy to use with well researched content.   Full Review   \"}, {\"rating\": \"100\", \"review-text\": \"  It always seems to perfectly line up to my child\\'s moods and developments  so it\\'s been handy knowing what\\'s to come.   Full Review   \"}, {\"rating\": \"100\", \"review-text\": \"  Awesome app that tells you what to expect from your baby during the first  year of his / her life!   Full Review   \"}, {\"rating\": \"100\", \"review-text\": \"  Every parent needs this app. Its user friendly, easy, to follow & a great  tool to understand your child.   Full Review   \"}]',\n",
       "  'score': u'4.5',\n",
       "  'title': u'The Wonder Weeks'}}"
      ]
     },
     "execution_count": 402,
     "metadata": {},
     "output_type": "execute_result"
    }
   ],
   "source": [
    "d"
   ]
  },
  {
   "cell_type": "code",
   "execution_count": 441,
   "metadata": {},
   "outputs": [],
   "source": [
    "df = pd.DataFrame(d).T"
   ]
  },
  {
   "cell_type": "code",
   "execution_count": 442,
   "metadata": {},
   "outputs": [
    {
     "data": {
      "text/html": [
       "<div>\n",
       "<style scoped>\n",
       "    .dataframe tbody tr th:only-of-type {\n",
       "        vertical-align: middle;\n",
       "    }\n",
       "\n",
       "    .dataframe tbody tr th {\n",
       "        vertical-align: top;\n",
       "    }\n",
       "\n",
       "    .dataframe thead th {\n",
       "        text-align: right;\n",
       "    }\n",
       "</style>\n",
       "<table border=\"1\" class=\"dataframe\">\n",
       "  <thead>\n",
       "    <tr style=\"text-align: right;\">\n",
       "      <th></th>\n",
       "      <th>category</th>\n",
       "      <th>description</th>\n",
       "      <th>installs</th>\n",
       "      <th>reviews</th>\n",
       "      <th>score</th>\n",
       "      <th>title</th>\n",
       "    </tr>\n",
       "  </thead>\n",
       "  <tbody>\n",
       "    <tr>\n",
       "      <th>abs.workout.fitness.tabata.hiit.stomach</th>\n",
       "      <td>HEALTH_AND_FITNESS</td>\n",
       "      <td>Abs Workout is a popular training App. We prep...</td>\n",
       "      <td>10,000,000+</td>\n",
       "      <td>[{\"rating\": \"100\", \"review-text\": \"  It is eas...</td>\n",
       "      <td>4.5</td>\n",
       "      <td>Abs Workout - Home Workout, Tabata, HIIT</td>\n",
       "    </tr>\n",
       "    <tr>\n",
       "      <th>abs.workout.home.fit.belly.fat</th>\n",
       "      <td>HEALTH_AND_FITNESS</td>\n",
       "      <td>Girls want abdominal muscles(ABS) all the time...</td>\n",
       "      <td>10,000+</td>\n",
       "      <td>[]</td>\n",
       "      <td>4.4</td>\n",
       "      <td>Daily ABS Workout</td>\n",
       "    </tr>\n",
       "    <tr>\n",
       "      <th>alexcrusher.just6weeks.full</th>\n",
       "      <td>HEALTH_AND_FITNESS</td>\n",
       "      <td>Just 6 Weeks offers you a unique opportunity t...</td>\n",
       "      <td>100,000+</td>\n",
       "      <td>[{\"rating\": \"20\", \"review-text\": \"  The app ha...</td>\n",
       "      <td>4.7</td>\n",
       "      <td>Just 6 Weeks</td>\n",
       "    </tr>\n",
       "    <tr>\n",
       "      <th>app.doubleagent</th>\n",
       "      <td>HEALTH_AND_FITNESS</td>\n",
       "      <td>The Best app for your workouts</td>\n",
       "      <td>100+</td>\n",
       "      <td>[]</td>\n",
       "      <td>5.0</td>\n",
       "      <td>DblAge</td>\n",
       "    </tr>\n",
       "    <tr>\n",
       "      <th>app.quedijo</th>\n",
       "      <td>HEALTH_AND_FITNESS</td>\n",
       "      <td>¿Que dijo? permite al usuario recibir servicio...</td>\n",
       "      <td>50+</td>\n",
       "      <td>[]</td>\n",
       "      <td>None</td>\n",
       "      <td>¿Que dijo?</td>\n",
       "    </tr>\n",
       "  </tbody>\n",
       "</table>\n",
       "</div>"
      ],
      "text/plain": [
       "                                                   category  \\\n",
       "abs.workout.fitness.tabata.hiit.stomach  HEALTH_AND_FITNESS   \n",
       "abs.workout.home.fit.belly.fat           HEALTH_AND_FITNESS   \n",
       "alexcrusher.just6weeks.full              HEALTH_AND_FITNESS   \n",
       "app.doubleagent                          HEALTH_AND_FITNESS   \n",
       "app.quedijo                              HEALTH_AND_FITNESS   \n",
       "\n",
       "                                                                               description  \\\n",
       "abs.workout.fitness.tabata.hiit.stomach  Abs Workout is a popular training App. We prep...   \n",
       "abs.workout.home.fit.belly.fat           Girls want abdominal muscles(ABS) all the time...   \n",
       "alexcrusher.just6weeks.full              Just 6 Weeks offers you a unique opportunity t...   \n",
       "app.doubleagent                                             The Best app for your workouts   \n",
       "app.quedijo                              ¿Que dijo? permite al usuario recibir servicio...   \n",
       "\n",
       "                                            installs  \\\n",
       "abs.workout.fitness.tabata.hiit.stomach  10,000,000+   \n",
       "abs.workout.home.fit.belly.fat               10,000+   \n",
       "alexcrusher.just6weeks.full                 100,000+   \n",
       "app.doubleagent                                 100+   \n",
       "app.quedijo                                      50+   \n",
       "\n",
       "                                                                                   reviews  \\\n",
       "abs.workout.fitness.tabata.hiit.stomach  [{\"rating\": \"100\", \"review-text\": \"  It is eas...   \n",
       "abs.workout.home.fit.belly.fat                                                          []   \n",
       "alexcrusher.just6weeks.full              [{\"rating\": \"20\", \"review-text\": \"  The app ha...   \n",
       "app.doubleagent                                                                         []   \n",
       "app.quedijo                                                                             []   \n",
       "\n",
       "                                        score  \\\n",
       "abs.workout.fitness.tabata.hiit.stomach   4.5   \n",
       "abs.workout.home.fit.belly.fat            4.4   \n",
       "alexcrusher.just6weeks.full               4.7   \n",
       "app.doubleagent                           5.0   \n",
       "app.quedijo                              None   \n",
       "\n",
       "                                                                            title  \n",
       "abs.workout.fitness.tabata.hiit.stomach  Abs Workout - Home Workout, Tabata, HIIT  \n",
       "abs.workout.home.fit.belly.fat                                  Daily ABS Workout  \n",
       "alexcrusher.just6weeks.full                                          Just 6 Weeks  \n",
       "app.doubleagent                                                            DblAge  \n",
       "app.quedijo                                                            ¿Que dijo?  "
      ]
     },
     "execution_count": 442,
     "metadata": {},
     "output_type": "execute_result"
    }
   ],
   "source": [
    "df.head()"
   ]
  },
  {
   "cell_type": "code",
   "execution_count": 443,
   "metadata": {},
   "outputs": [],
   "source": [
    "df.to_csv('/Users/bettychou1993/Desktop/intern@sdl/play-scraper/categories/trending.csv', sep=',', encoding='utf-8', header=True, columns= ['title', 'category', 'installs', 'score', 'description', 'reviews'])"
   ]
  },
  {
   "cell_type": "code",
   "execution_count": 407,
   "metadata": {},
   "outputs": [],
   "source": [
    "df1 = pd.read_csv('/Users/bettychou1993/Desktop/intern@sdl/play-scraper/top_paid_5_1.csv')"
   ]
  },
  {
   "cell_type": "code",
   "execution_count": 415,
   "metadata": {},
   "outputs": [
    {
     "data": {
      "text/plain": [
       "'[{\"rating\": \"100\", \"review-text\": \"  Absolutely love this app. I use it several times a day and sometimes just study the info for looking periods of time learning all I can.   Full Review   \"}, {\"rating\": \"60\", \"review-text\": \"  I love this app but it\\'s not supported on my new phone the Pixel 2XL. I hope this can get fixed soon.   Full Review   \"}, {\"rating\": \"80\", \"review-text\": \"  The only reason that I don\\'t love this app is that it does not save my notes that I make! Please fix this issue.   Full Review   \"}, {\"rating\": \"80\", \"review-text\": \"  I like it so far, was able to read up on additional uses for some oils. I really wish there was a way you could bookmark you\\'re favorite oils for a quick reference.   Full Review   \"}, {\"rating\": \"100\", \"review-text\": \"  Absolutely thrilled now that the app has been updated to work on my new phone. This is my only go to app for oil usage and I will be recommending it to all my customers again.   Full Review   \"}, {\"rating\": \"80\", \"review-text\": \"  Can\\'t get notes to save. Any tips would change the rating to a 5 if I can get that resolved!   Full Review   \"}, {\"rating\": \"80\", \"review-text\": \"  Some pages don\\'t fit the screen, other than that it\\'s very useful on the go.  I wish it would have an option to gift it to someone .   Full Review   \"}, {\"rating\": \"80\", \"review-text\": \"  My only complaint is that it needs updated. There are new oils not in the app, and new blends that have not been updated.   Full Review   \"}, {\"rating\": \"60\", \"review-text\": \"  I love this app but I can\\'t get it to load on my new phone. I have a Pixel 2 and I paid for this app so I should be able to use it and an update should be available.   Full Review   \"}, {\"rating\": \"60\", \"review-text\": \"  Would be perfect, but I am unable to use the Notes section. It won\\'t let me type anything.   Full Review   \"}, {\"rating\": \"60\", \"review-text\": \"  It needs to be updated. Also, when I write notes it won\\'t save them. It would be nice if it included recipes for diffusing or blends.   Full Review   \"}, {\"rating\": \"100\", \"review-text\": \"  Yay!! So glad to finally be able to able to download on a newer device! Absolutely love this app. I use it daily...my go to at my fingertips!!!\\\\u00f0\\\\u009f\\\\u0092\\\\u009c   Full Review   \"}, {\"rating\": \"80\", \"review-text\": \"  I would rate 5 stars but this APP needs an update with newer oils.... overall great APP for YL oil basics   Full Review   \"}, {\"rating\": \"100\", \"review-text\": \"  So happy that I can finally download onto my Samsung Galaxy S7!  So much easier than carrying a reference book   Full Review   \"}, {\"rating\": \"60\", \"review-text\": \"  Could you please update this app. Many of the blends have changed recently and this app needs to be updated.   Full Review   \"}, {\"rating\": \"80\", \"review-text\": \"  I would like to see an update to include all the new oils & remove the ones that are permanently discontinued   Full Review   \"}, {\"rating\": \"80\", \"review-text\": \"  Love the app. It needs updated. There are oils that are no longer available and there are new oils that need added.   Full Review   \"}, {\"rating\": \"80\", \"review-text\": \"  I really like this app a lot. I just wish it included Supplements and Personal Care products too.   Full Review   \"}, {\"rating\": \"100\", \"review-text\": \"  I use this app almost daily to look up an oil or to find an oil for a particular situation.   Full Review   \"}, {\"rating\": \"100\", \"review-text\": \"  This was the best money spent on an app ever! So much information and so easy to use.   Full Review   \"}, {\"rating\": \"20\", \"review-text\": \"  It was good while it lasted but they do not update and there are a lot of oils that they are missing.   Full Review   \"}, {\"rating\": \"100\", \"review-text\": \"  Best EO app around.  I use it constantly.  Everything works, its easy to use.  I would be lost without this guide!!   Full Review   \"}, {\"rating\": \"60\", \"review-text\": \"  I hope you update the information. There are errors on ingredients, or outdated ingredients.   Full Review   \"}, {\"rating\": \"100\", \"review-text\": \"  This app is my go-to spot for all things essential Oils! Love it   Full Review   \"}, {\"rating\": \"100\", \"review-text\": \"  How can I transfer my essential Oil guide from phone to laptop it is taking a lot of GB?   Full Review   \"}, {\"rating\": \"100\", \"review-text\": \"  Excellent user friendly, comprehensive, easy to access, reference guide- for all sorts of applications in using essential oils has been       very helpful.   Full Review   \"}, {\"rating\": \"100\", \"review-text\": \"  This app is amazing. Saves so much money vs Dr. Visits   Full Review   \"}, {\"rating\": \"100\", \"review-text\": \"  Thank you so much for updating for the newer devices! All is right on my world again! Love this app!!!!!   Full Review   \"}, {\"rating\": \"80\", \"review-text\": \"  Great app but I cannot figure out why some oils are purple and some green?   Full Review   \"}, {\"rating\": \"60\", \"review-text\": \"  Would be great if it had all of the oils. Wish I would have know that prior to downloading.  Skip if you are looking for a full reference guide.   Full Review   \"}, {\"rating\": \"100\", \"review-text\": \"  I love this app! I use it daily. So helpful wherever I go and people have questions or issues - I  have answers!   Full Review   \"}, {\"rating\": \"100\", \"review-text\": \"  I love this app. I am so thankful it has been updated for the Google Pixel phone... I felt lost without it. Thanks!!   Full Review   \"}, {\"rating\": \"100\", \"review-text\": \"  This is my go-to app for every ache, pain, ailment, sickness or mood swing under the sun.  Absolutely love that there\\'s a \\'notes\\' section and a place to take notes for each single oil, blend, type of use/application & for every symptom/illness.  This app is super user friendly, the Vita Flex charts are a wonderful reference to have at my fingertips & the search bar for anything under the \\'Guide\\' section is fabulously useful.   I have shown this app to several other people who have decided to spend the $7-8 (whatever it costs, I forget since I\\'ve had it so long) on it because it\\'s so much easier than flipping thru a super thick book to find the info that is just a few clicks away in this app.   I had chest pains from anxiety and almost went into the hospital because of it. I looked up heart/chest pains in the guide and found Ylang Ylang and Aroma Life as a suggestion to diffuse or breathe in directly from the bottle. I tried it and within minutes my chest pain was gone and I was calm and relaxed.  I tried this out on a few friends who were having anxiety attacks and crying from mental breakdowns and it had the same effect on them. Within a few minutes their eyes were clear and they were smiling again.  I have, without even trying to do so, made a few non-believers actually begin to believe in the power of essential oils and aroma therapy bc of the help listed in this app!  Absolutely recommend 100%! Especially if you use Young Living essential oils, as many of the blends are Young Living\\'s own and you may not find them from other companies.   Hands down the best essential oil reference guide app I\\'ve ever had the pleasure of using! Thank you so much!   An update with some of the new oils would be wonderful, but I swear I\\'ve used this app enough to pay off that small charge for this app over a hundred times at least!   Easy Five Stars!    \\\\u00f0\\\\u009f\\\\u008c\\\\u009f\\\\u00f0\\\\u009f\\\\u008c\\\\u009f\\\\u00f0\\\\u009f\\\\u008c\\\\u009f\\\\u00f0\\\\u009f\\\\u008c\\\\u009f\\\\u00f0\\\\u009f\\\\u008c\\\\u009f   Full Review   \"}, {\"rating\": \"100\", \"review-text\": \"  Please update and add the new oils to it. Thanks   Full Review   \"}, {\"rating\": \"100\", \"review-text\": \"  Love this handy reference in my pocket, especially now that it\\'s been updated to work with my phone again! Yeah!   Full Review   \"}, {\"rating\": \"100\", \"review-text\": \"  Shows you everything from application of oils too symptoms and what oils to use love love love this app...   Full Review   \"}, {\"rating\": \"20\", \"review-text\": \"  Says app is disabled and to contact app manager. How do I do this?   Full Review   \"}, {\"rating\": \"80\", \"review-text\": \"  My reference book for eos (in my pocket)   Full Review   \"}, {\"rating\": \"100\", \"review-text\": \"  PLEASE UPDATE!!!   Full Review   \"}, {\"rating\": \"60\", \"review-text\": \"  Please update app with the newer oil blends like Cool Azul.   Full Review   \"}]'"
      ]
     },
     "execution_count": 415,
     "metadata": {},
     "output_type": "execute_result"
    }
   ],
   "source": [
    "df1.iloc[0]['reviews']"
   ]
  },
  {
   "cell_type": "code",
   "execution_count": 266,
   "metadata": {},
   "outputs": [
    {
     "data": {
      "text/plain": [
       "u'  Absolutely love this app. I use it several times a day and sometimes just study the info for looking periods of time learning all I can.   Full Review   '"
      ]
     },
     "execution_count": 266,
     "metadata": {},
     "output_type": "execute_result"
    }
   ],
   "source": [
    "df1['reviews'].apply(json.loads)[0][0]['review-text']"
   ]
  },
  {
   "cell_type": "code",
   "execution_count": null,
   "metadata": {},
   "outputs": [],
   "source": []
  }
 ],
 "metadata": {
  "kernelspec": {
   "display_name": "Python 2",
   "language": "python",
   "name": "python2"
  },
  "language_info": {
   "codemirror_mode": {
    "name": "ipython",
    "version": 2
   },
   "file_extension": ".py",
   "mimetype": "text/x-python",
   "name": "python",
   "nbconvert_exporter": "python",
   "pygments_lexer": "ipython2",
   "version": "2.7.14"
  }
 },
 "nbformat": 4,
 "nbformat_minor": 2
}
